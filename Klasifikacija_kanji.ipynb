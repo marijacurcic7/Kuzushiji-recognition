{
 "cells": [
  {
   "cell_type": "code",
   "execution_count": 2,
   "metadata": {
    "id": "r-4fPo0B8GZk"
   },
   "outputs": [],
   "source": [
    "import pandas as pd\n",
    "import os, cv2, keras\n",
    "import pandas as pd\n",
    "# import matplotlib.pyplot as plt\n",
    "import numpy as np\n",
    "import tensorflow as tf\n",
    "from PIL import Image, ImageDraw, ImageFont\n",
    "from keras import layers"
   ]
  },
  {
   "cell_type": "code",
   "execution_count": 3,
   "metadata": {
    "id": "vOOtc8GnIDDU"
   },
   "outputs": [],
   "source": [
    "df = pd.read_csv('cropped/kanji_labels.csv')"
   ]
  },
  {
   "cell_type": "code",
   "execution_count": 4,
   "metadata": {
    "colab": {
     "base_uri": "https://localhost:8080/",
     "height": 423
    },
    "id": "whCm0xVnIHsd",
    "outputId": "743ddadd-5b57-4069-feaa-af5d4fe8563e"
   },
   "outputs": [
    {
     "data": {
      "text/html": [
       "<div>\n",
       "<style scoped>\n",
       "    .dataframe tbody tr th:only-of-type {\n",
       "        vertical-align: middle;\n",
       "    }\n",
       "\n",
       "    .dataframe tbody tr th {\n",
       "        vertical-align: top;\n",
       "    }\n",
       "\n",
       "    .dataframe thead th {\n",
       "        text-align: right;\n",
       "    }\n",
       "</style>\n",
       "<table border=\"1\" class=\"dataframe\">\n",
       "  <thead>\n",
       "    <tr style=\"text-align: right;\">\n",
       "      <th></th>\n",
       "      <th>image_id</th>\n",
       "      <th>labels</th>\n",
       "    </tr>\n",
       "  </thead>\n",
       "  <tbody>\n",
       "    <tr>\n",
       "      <th>0</th>\n",
       "      <td>image_0</td>\n",
       "      <td>三</td>\n",
       "    </tr>\n",
       "    <tr>\n",
       "      <th>1</th>\n",
       "      <td>image_1</td>\n",
       "      <td>世</td>\n",
       "    </tr>\n",
       "    <tr>\n",
       "      <th>2</th>\n",
       "      <td>image_2</td>\n",
       "      <td>人</td>\n",
       "    </tr>\n",
       "    <tr>\n",
       "      <th>3</th>\n",
       "      <td>image_3</td>\n",
       "      <td>子</td>\n",
       "    </tr>\n",
       "    <tr>\n",
       "      <th>4</th>\n",
       "      <td>image_4</td>\n",
       "      <td>者</td>\n",
       "    </tr>\n",
       "    <tr>\n",
       "      <th>...</th>\n",
       "      <td>...</td>\n",
       "      <td>...</td>\n",
       "    </tr>\n",
       "    <tr>\n",
       "      <th>41144</th>\n",
       "      <td>image_41144</td>\n",
       "      <td>中</td>\n",
       "    </tr>\n",
       "    <tr>\n",
       "      <th>41145</th>\n",
       "      <td>image_41145</td>\n",
       "      <td>今</td>\n",
       "    </tr>\n",
       "    <tr>\n",
       "      <th>41146</th>\n",
       "      <td>image_41146</td>\n",
       "      <td>気</td>\n",
       "    </tr>\n",
       "    <tr>\n",
       "      <th>41147</th>\n",
       "      <td>image_41147</td>\n",
       "      <td>居</td>\n",
       "    </tr>\n",
       "    <tr>\n",
       "      <th>41148</th>\n",
       "      <td>image_41148</td>\n",
       "      <td>郎</td>\n",
       "    </tr>\n",
       "  </tbody>\n",
       "</table>\n",
       "<p>41149 rows × 2 columns</p>\n",
       "</div>"
      ],
      "text/plain": [
       "          image_id labels\n",
       "0          image_0      三\n",
       "1          image_1      世\n",
       "2          image_2      人\n",
       "3          image_3      子\n",
       "4          image_4      者\n",
       "...            ...    ...\n",
       "41144  image_41144      中\n",
       "41145  image_41145      今\n",
       "41146  image_41146      気\n",
       "41147  image_41147      居\n",
       "41148  image_41148      郎\n",
       "\n",
       "[41149 rows x 2 columns]"
      ]
     },
     "execution_count": 4,
     "metadata": {},
     "output_type": "execute_result"
    }
   ],
   "source": [
    "df"
   ]
  },
  {
   "cell_type": "code",
   "execution_count": 5,
   "metadata": {
    "id": "W7IJKylEuq-L"
   },
   "outputs": [],
   "source": [
    "X_=[]\n",
    "y_=[]\n",
    "for image_id, labels in df.values:\n",
    "    image_fn = 'cropped/kanji_cropped/{}.jpg'.format(image_id)\n",
    "    image = Image.open(image_fn)\n",
    "    image = np.asarray(image)\n",
    "    X_.append(image)\n",
    "    y_.append(labels)"
   ]
  },
  {
   "cell_type": "code",
   "execution_count": 6,
   "metadata": {
    "id": "WOnvzgo_w7b6"
   },
   "outputs": [],
   "source": [
    "X_ = np.array(X_)\n",
    "y_ = np.array(y_)"
   ]
  },
  {
   "cell_type": "code",
   "execution_count": 7,
   "metadata": {
    "colab": {
     "base_uri": "https://localhost:8080/"
    },
    "id": "2j4dXG5CxGb4",
    "outputId": "a3f7280c-d3e9-4162-bff3-ba220cc621e2"
   },
   "outputs": [
    {
     "data": {
      "text/plain": [
       "(41149, 100, 100)"
      ]
     },
     "execution_count": 7,
     "metadata": {},
     "output_type": "execute_result"
    }
   ],
   "source": [
    "X_.shape"
   ]
  },
  {
   "cell_type": "code",
   "execution_count": 8,
   "metadata": {
    "colab": {
     "base_uri": "https://localhost:8080/"
    },
    "id": "fkM-z0cFxIR4",
    "outputId": "6bd2b220-2cbd-482b-ade3-15b644365139"
   },
   "outputs": [
    {
     "data": {
      "text/plain": [
       "(41149,)"
      ]
     },
     "execution_count": 8,
     "metadata": {},
     "output_type": "execute_result"
    }
   ],
   "source": [
    "y_.shape"
   ]
  },
  {
   "cell_type": "code",
   "execution_count": 9,
   "metadata": {
    "id": "QaeIEPC_Pxnu"
   },
   "outputs": [],
   "source": [
    "unique, counts = np.unique(y_, return_counts=True)"
   ]
  },
  {
   "cell_type": "code",
   "execution_count": 10,
   "metadata": {
    "colab": {
     "base_uri": "https://localhost:8080/"
    },
    "id": "5Tq7b0bNP45L",
    "outputId": "05183909-d96f-40b2-a739-23146fda528b"
   },
   "outputs": [
    {
     "data": {
      "text/plain": [
       "103"
      ]
     },
     "execution_count": 10,
     "metadata": {},
     "output_type": "execute_result"
    }
   ],
   "source": [
    "len(counts)"
   ]
  },
  {
   "cell_type": "code",
   "execution_count": 11,
   "metadata": {},
   "outputs": [],
   "source": [
    "i = 0\n",
    "classes = []\n",
    "for c in counts:\n",
    "    if(c >= 10 and unique[i]):\n",
    "        cl = unique[i]\n",
    "        classes.append(cl)\n",
    "    i+=1"
   ]
  },
  {
   "cell_type": "code",
   "execution_count": 12,
   "metadata": {},
   "outputs": [],
   "source": [
    "j = 0\n",
    "yy1_ = []\n",
    "XX1_ = []\n",
    "for y in y_:\n",
    "    if(y in classes):\n",
    "        yy1_.append(y)\n",
    "        XX1_.append(X_[j])\n",
    "    j+= 1"
   ]
  },
  {
   "cell_type": "code",
   "execution_count": 13,
   "metadata": {},
   "outputs": [],
   "source": [
    "X_ = np.array(XX1_)\n",
    "y_ = np.array(yy1_)"
   ]
  },
  {
   "cell_type": "code",
   "execution_count": 14,
   "metadata": {
    "colab": {
     "base_uri": "https://localhost:8080/"
    },
    "id": "UowY9a8aQa61",
    "outputId": "376b4987-c263-445f-eb85-0440ec70786a"
   },
   "outputs": [
    {
     "name": "stdout",
     "output_type": "stream",
     "text": [
      "(41149, 100, 100)\n",
      "(41149,)\n"
     ]
    }
   ],
   "source": [
    "print(X_.shape)\n",
    "print(y_.shape)"
   ]
  },
  {
   "cell_type": "code",
   "execution_count": 15,
   "metadata": {
    "id": "wtOrIhuYQeNJ"
   },
   "outputs": [],
   "source": [
    "from sklearn.preprocessing import LabelEncoder\n",
    "from sklearn.model_selection import train_test_split\n",
    "\n",
    "from sklearn.svm import SVC\n",
    "from sklearn import metrics\n",
    "\n",
    "from keras.models import Sequential, Model,load_model\n",
    "from keras.layers import Dense, Dropout, Activation, Flatten, Conv2D, Conv3D, BatchNormalization, MaxPool2D, MaxPooling2D, AveragePooling2D, Input\n",
    "from keras.optimizers import Adam\n",
    "from keras.utils import to_categorical\n",
    "\n",
    "from keras.callbacks import ModelCheckpoint\n",
    "from datetime import datetime\n",
    "\n",
    "from keras import backend as K"
   ]
  },
  {
   "cell_type": "code",
   "execution_count": 16,
   "metadata": {
    "colab": {
     "base_uri": "https://localhost:8080/"
    },
    "id": "1yqJsPuRVSms",
    "outputId": "dbe5a562-6be1-4b43-c000-f134f732d96c"
   },
   "outputs": [
    {
     "name": "stdout",
     "output_type": "stream",
     "text": [
      "(32919, 100, 100)\n",
      "(4115, 100, 100)\n",
      "(4115, 100, 100)\n"
     ]
    }
   ],
   "source": [
    "leinst = LabelEncoder()\n",
    "yyinst = leinst.fit_transform(y_)\n",
    "\n",
    "# x_train, x_test, y_train, y_test = train_test_split(X_, yyinst, test_size=0.2, shuffle=True, random_state=42)\n",
    "x_train, x_test, y_train, y_test = train_test_split(X_, yyinst, test_size=0.2, shuffle=True, stratify=yyinst)\n",
    "\n",
    "# x_test, x_validation, y_test, y_validation = train_test_split(x_test, y_test, test_size=0.5, shuffle=True, random_state=42)\n",
    "x_test, x_validation, y_test, y_validation = train_test_split(x_test, y_test, test_size=0.5, shuffle=True, stratify=y_test)\n",
    "\n",
    "print(x_train.shape)\n",
    "print(x_test.shape)\n",
    "print(x_validation.shape)\n",
    "\n",
    "\n",
    "num_classes = len(leinst.classes_)\n",
    "y_train = to_categorical(y_train, num_classes=num_classes)\n",
    "y_test = to_categorical(y_test, num_classes=num_classes)\n",
    "y_validation = to_categorical(y_validation, num_classes=num_classes)"
   ]
  },
  {
   "cell_type": "code",
   "execution_count": 17,
   "metadata": {
    "colab": {
     "base_uri": "https://localhost:8080/"
    },
    "id": "caeR-Oc1d1ii",
    "outputId": "7803ca55-81dd-41e2-b063-f2dfb486281e"
   },
   "outputs": [
    {
     "data": {
      "text/plain": [
       "103"
      ]
     },
     "execution_count": 17,
     "metadata": {},
     "output_type": "execute_result"
    }
   ],
   "source": [
    "num_classes"
   ]
  },
  {
   "cell_type": "code",
   "execution_count": 18,
   "metadata": {
    "id": "wsjjJM6gd4x0"
   },
   "outputs": [],
   "source": [
    "K.clear_session()\n",
    "def Kuzushiji_Classifier(in_):\n",
    "    model_ = Conv2D(64,kernel_size=(3, 3),activation='relu')(in_)\n",
    "    model_ = BatchNormalization()(model_)\n",
    "    model_ = Conv2D(32,kernel_size=(3, 3),activation='relu')(model_)\n",
    "    model_ = MaxPooling2D(pool_size=(2, 2))(model_)\n",
    "    model_ = BatchNormalization()(model_)\n",
    "    model_ = Dropout(0.4)(model_)\n",
    "    \n",
    "    model_ = Conv2D(32,kernel_size=(3, 3), strides=2,activation='relu')(model_)\n",
    "    model_ = MaxPooling2D(pool_size=(2, 2))(model_)\n",
    "    model_ = BatchNormalization()(model_)\n",
    "    model_ = Dropout(0.4)(model_)\n",
    "    \n",
    "    model_ = Flatten()(model_)\n",
    "    model_ = Dense(128, activation='relu')(model_)\n",
    "    model_ = Dropout(0.4)(model_)\n",
    "    model_ = Dense(num_classes, activation='softmax')(model_)\n",
    "    return model_"
   ]
  },
  {
   "cell_type": "code",
   "execution_count": 19,
   "metadata": {
    "id": "tpHW0eNTd-dq"
   },
   "outputs": [],
   "source": [
    "Input_Sample = Input(shape=(100, 100, 1))\n",
    "Output_ = Kuzushiji_Classifier(Input_Sample)\n",
    "Model_Enhancer = Model(inputs=Input_Sample, outputs=Output_)"
   ]
  },
  {
   "cell_type": "code",
   "execution_count": 20,
   "metadata": {
    "colab": {
     "base_uri": "https://localhost:8080/"
    },
    "id": "wohyt8Vtd_8j",
    "outputId": "2b12527b-e59f-4c5b-bb68-4f4763f1e5a2"
   },
   "outputs": [
    {
     "name": "stdout",
     "output_type": "stream",
     "text": [
      "Model: \"model\"\n",
      "_________________________________________________________________\n",
      " Layer (type)                Output Shape              Param #   \n",
      "=================================================================\n",
      " input_1 (InputLayer)        [(None, 100, 100, 1)]     0         \n",
      "                                                                 \n",
      " conv2d (Conv2D)             (None, 98, 98, 64)        640       \n",
      "                                                                 \n",
      " batch_normalization (BatchN  (None, 98, 98, 64)       256       \n",
      " ormalization)                                                   \n",
      "                                                                 \n",
      " conv2d_1 (Conv2D)           (None, 96, 96, 32)        18464     \n",
      "                                                                 \n",
      " max_pooling2d (MaxPooling2D  (None, 48, 48, 32)       0         \n",
      " )                                                               \n",
      "                                                                 \n",
      " batch_normalization_1 (Batc  (None, 48, 48, 32)       128       \n",
      " hNormalization)                                                 \n",
      "                                                                 \n",
      " dropout (Dropout)           (None, 48, 48, 32)        0         \n",
      "                                                                 \n",
      " conv2d_2 (Conv2D)           (None, 23, 23, 32)        9248      \n",
      "                                                                 \n",
      " max_pooling2d_1 (MaxPooling  (None, 11, 11, 32)       0         \n",
      " 2D)                                                             \n",
      "                                                                 \n",
      " batch_normalization_2 (Batc  (None, 11, 11, 32)       128       \n",
      " hNormalization)                                                 \n",
      "                                                                 \n",
      " dropout_1 (Dropout)         (None, 11, 11, 32)        0         \n",
      "                                                                 \n",
      " flatten (Flatten)           (None, 3872)              0         \n",
      "                                                                 \n",
      " dense (Dense)               (None, 128)               495744    \n",
      "                                                                 \n",
      " dropout_2 (Dropout)         (None, 128)               0         \n",
      "                                                                 \n",
      " dense_1 (Dense)             (None, 103)               13287     \n",
      "                                                                 \n",
      "=================================================================\n",
      "Total params: 537,895\n",
      "Trainable params: 537,639\n",
      "Non-trainable params: 256\n",
      "_________________________________________________________________\n"
     ]
    }
   ],
   "source": [
    "Model_Enhancer.compile(loss = \"categorical_crossentropy\", optimizer=\"adam\", metrics=[\"accuracy\"])\n",
    "Model_Enhancer.summary()"
   ]
  },
  {
   "cell_type": "code",
   "execution_count": 21,
   "metadata": {
    "id": "cl2yoPTSeFeZ"
   },
   "outputs": [],
   "source": [
    "checkpointer = ModelCheckpoint('model_kanji1.h5', verbose=0,mode='auto', monitor='val_accuracy',save_best_only=True)"
   ]
  },
  {
   "cell_type": "code",
   "execution_count": 22,
   "metadata": {
    "colab": {
     "base_uri": "https://localhost:8080/"
    },
    "id": "yuFT3FvfeIVj",
    "outputId": "b94f3ff3-d727-4e7f-aa9c-77cdf570f65d"
   },
   "outputs": [
    {
     "name": "stdout",
     "output_type": "stream",
     "text": [
      "Epoch 1/20\n",
      "2058/2058 [==============================] - 606s 294ms/step - loss: 1.8304 - accuracy: 0.5740 - val_loss: 0.5627 - val_accuracy: 0.8603\n",
      "Epoch 2/20\n",
      "2058/2058 [==============================] - 623s 303ms/step - loss: 0.8201 - accuracy: 0.7846 - val_loss: 0.3561 - val_accuracy: 0.9108\n",
      "Epoch 3/20\n",
      "2058/2058 [==============================] - 610s 297ms/step - loss: 0.6281 - accuracy: 0.8289 - val_loss: 0.3065 - val_accuracy: 0.9217\n",
      "Epoch 4/20\n",
      "2058/2058 [==============================] - 702s 341ms/step - loss: 0.5318 - accuracy: 0.8508 - val_loss: 0.2770 - val_accuracy: 0.9337\n",
      "Epoch 5/20\n",
      "2058/2058 [==============================] - 713s 347ms/step - loss: 0.4665 - accuracy: 0.8671 - val_loss: 0.2598 - val_accuracy: 0.9339\n",
      "Epoch 6/20\n",
      "2058/2058 [==============================] - 655s 318ms/step - loss: 0.4228 - accuracy: 0.8788 - val_loss: 0.2549 - val_accuracy: 0.9390\n",
      "Epoch 7/20\n",
      "2058/2058 [==============================] - 725s 352ms/step - loss: 0.3797 - accuracy: 0.8898 - val_loss: 0.2335 - val_accuracy: 0.9388\n",
      "Epoch 8/20\n",
      "2058/2058 [==============================] - 704s 342ms/step - loss: 0.3574 - accuracy: 0.8965 - val_loss: 0.2210 - val_accuracy: 0.9468\n",
      "Epoch 9/20\n",
      "2058/2058 [==============================] - 705s 343ms/step - loss: 0.3309 - accuracy: 0.9018 - val_loss: 0.2016 - val_accuracy: 0.9470\n",
      "Epoch 10/20\n",
      "2058/2058 [==============================] - 702s 341ms/step - loss: 0.3100 - accuracy: 0.9087 - val_loss: 0.2256 - val_accuracy: 0.9414\n",
      "Epoch 11/20\n",
      "2058/2058 [==============================] - 703s 341ms/step - loss: 0.3058 - accuracy: 0.9086 - val_loss: 0.3735 - val_accuracy: 0.9040\n",
      "Epoch 12/20\n",
      "2058/2058 [==============================] - 616s 299ms/step - loss: 0.2830 - accuracy: 0.9149 - val_loss: 0.1903 - val_accuracy: 0.9524\n",
      "Epoch 13/20\n",
      "2058/2058 [==============================] - 703s 342ms/step - loss: 0.2738 - accuracy: 0.9171 - val_loss: 0.1888 - val_accuracy: 0.9502\n",
      "Epoch 14/20\n",
      "2058/2058 [==============================] - 710s 345ms/step - loss: 0.2553 - accuracy: 0.9210 - val_loss: 0.1905 - val_accuracy: 0.9541\n",
      "Epoch 15/20\n",
      "2058/2058 [==============================] - 711s 345ms/step - loss: 0.2490 - accuracy: 0.9254 - val_loss: 0.4420 - val_accuracy: 0.8834\n",
      "Epoch 16/20\n",
      "2058/2058 [==============================] - 712s 346ms/step - loss: 0.2432 - accuracy: 0.9258 - val_loss: 0.1932 - val_accuracy: 0.9516\n",
      "Epoch 17/20\n",
      "2058/2058 [==============================] - 712s 346ms/step - loss: 0.2316 - accuracy: 0.9296 - val_loss: 0.1866 - val_accuracy: 0.9524\n",
      "Epoch 18/20\n",
      "2058/2058 [==============================] - 722s 351ms/step - loss: 0.2246 - accuracy: 0.9292 - val_loss: 0.1939 - val_accuracy: 0.9524\n",
      "Epoch 19/20\n",
      "2058/2058 [==============================] - 642s 312ms/step - loss: 0.2200 - accuracy: 0.9322 - val_loss: 0.1892 - val_accuracy: 0.9521\n",
      "Epoch 20/20\n",
      "2058/2058 [==============================] - 673s 327ms/step - loss: 0.2203 - accuracy: 0.9311 - val_loss: 0.1894 - val_accuracy: 0.9536\n"
     ]
    }
   ],
   "source": [
    "ModelHistory = Model_Enhancer.fit(x_train, y_train,\n",
    "          batch_size=16,\n",
    "          epochs=20,\n",
    "          verbose=1,\n",
    "          callbacks=[checkpointer],\n",
    "          validation_data=(x_validation, y_validation))"
   ]
  },
  {
   "cell_type": "code",
   "execution_count": 23,
   "metadata": {
    "colab": {
     "base_uri": "https://localhost:8080/"
    },
    "id": "gel8NGkS2NVp",
    "outputId": "8ffb9aa4-52b8-4bcb-82fc-fb55e132e540"
   },
   "outputs": [
    {
     "name": "stdout",
     "output_type": "stream",
     "text": [
      "1029/1029 [==============================] - 105s 102ms/step - loss: 0.0234 - accuracy: 0.9954\n",
      "Training Accuracy:  0.9953522086143494\n"
     ]
    }
   ],
   "source": [
    "train_score = Model_Enhancer.evaluate(x_train, y_train, verbose=1)\n",
    "print(\"Training Accuracy: \", train_score[1])"
   ]
  },
  {
   "cell_type": "code",
   "execution_count": 24,
   "metadata": {
    "colab": {
     "base_uri": "https://localhost:8080/"
    },
    "id": "uVUvxca8U90n",
    "outputId": "0a97dc8f-d13a-41c7-8adc-3f987fd295dd"
   },
   "outputs": [
    {
     "name": "stdout",
     "output_type": "stream",
     "text": [
      "129/129 [==============================] - 13s 101ms/step - loss: 0.1894 - accuracy: 0.9536\n",
      "Validation Accuracy:  0.9535844326019287\n"
     ]
    }
   ],
   "source": [
    "val_score = Model_Enhancer.evaluate(x_validation, y_validation, verbose=1)\n",
    "print(\"Validation Accuracy: \", val_score[1])"
   ]
  },
  {
   "cell_type": "code",
   "execution_count": 25,
   "metadata": {
    "colab": {
     "base_uri": "https://localhost:8080/"
    },
    "id": "V5FdrLiM2VPv",
    "outputId": "7be90cff-e79b-47de-e0cc-ee27b4126acb"
   },
   "outputs": [
    {
     "name": "stdout",
     "output_type": "stream",
     "text": [
      "129/129 [==============================] - 13s 101ms/step - loss: 0.2562 - accuracy: 0.9402\n",
      "Test Accuracy:  0.9402186870574951\n"
     ]
    }
   ],
   "source": [
    "test_score = Model_Enhancer.evaluate(x_test, y_test, verbose=1)\n",
    "print(\"Test Accuracy: \", test_score[1])"
   ]
  },
  {
   "cell_type": "code",
   "execution_count": 26,
   "metadata": {
    "colab": {
     "base_uri": "https://localhost:8080/"
    },
    "id": "nebfJvcGNtL2",
    "outputId": "f4954963-3f6a-4752-f677-19cb73def5bd"
   },
   "outputs": [
    {
     "name": "stdout",
     "output_type": "stream",
     "text": [
      "129/129 [==============================] - 14s 105ms/step\n"
     ]
    }
   ],
   "source": [
    "y_pred = Model_Enhancer.predict(x_test)"
   ]
  },
  {
   "cell_type": "code",
   "execution_count": 27,
   "metadata": {
    "colab": {
     "base_uri": "https://localhost:8080/"
    },
    "id": "cd0ZdBQ1PY6N",
    "outputId": "9b19c03e-6cae-415c-cf89-da8b777d366c"
   },
   "outputs": [
    {
     "name": "stdout",
     "output_type": "stream",
     "text": [
      "Prediction:  右\n"
     ]
    }
   ],
   "source": [
    "i = np.argmax(y_pred[0])\n",
    "print(\"Prediction: \", leinst.classes_[i])"
   ]
  },
  {
   "cell_type": "code",
   "execution_count": 28,
   "metadata": {
    "colab": {
     "base_uri": "https://localhost:8080/"
    },
    "id": "WGsRG-YOPicF",
    "outputId": "bc68e71b-f715-4861-d962-b88ceba887a6"
   },
   "outputs": [
    {
     "name": "stdout",
     "output_type": "stream",
     "text": [
      "Prediction:  右\n"
     ]
    }
   ],
   "source": [
    "i = np.argmax(y_test[0])\n",
    "print(\"Prediction: \", leinst.classes_[i])"
   ]
  },
  {
   "cell_type": "code",
   "execution_count": 29,
   "metadata": {
    "id": "8Z0ZuV-fQt2_"
   },
   "outputs": [],
   "source": [
    "from sklearn.metrics import f1_score"
   ]
  },
  {
   "cell_type": "code",
   "execution_count": 30,
   "metadata": {
    "id": "JTt4D66gRPdD"
   },
   "outputs": [],
   "source": [
    "y_true = np.argmax(y_test, axis=1)"
   ]
  },
  {
   "cell_type": "code",
   "execution_count": 31,
   "metadata": {
    "id": "GVI7VK5MRG_0"
   },
   "outputs": [],
   "source": [
    "y_pr = np.argmax(y_pred, axis=1)"
   ]
  },
  {
   "cell_type": "code",
   "execution_count": 32,
   "metadata": {
    "id": "SNH8O2TWQphn"
   },
   "outputs": [],
   "source": [
    "f1 = f1_score(y_true, y_pr, average=None)"
   ]
  },
  {
   "cell_type": "code",
   "execution_count": 33,
   "metadata": {
    "colab": {
     "base_uri": "https://localhost:8080/"
    },
    "id": "LWJkvYk9973G",
    "outputId": "6f121a31-1ac0-446e-c4d5-89b4b067d0d2"
   },
   "outputs": [
    {
     "data": {
      "text/plain": [
       "103"
      ]
     },
     "execution_count": 33,
     "metadata": {},
     "output_type": "execute_result"
    }
   ],
   "source": [
    "len(f1)"
   ]
  },
  {
   "cell_type": "code",
   "execution_count": 34,
   "metadata": {},
   "outputs": [],
   "source": [
    "from sklearn.metrics import classification_report"
   ]
  },
  {
   "cell_type": "code",
   "execution_count": 35,
   "metadata": {},
   "outputs": [],
   "source": [
    "n = 0\n",
    "labels = []\n",
    "for clas in leinst.classes_:\n",
    "    labels.append(n)\n",
    "    # print(clas, n)\n",
    "    n += 1"
   ]
  },
  {
   "cell_type": "code",
   "execution_count": 36,
   "metadata": {},
   "outputs": [],
   "source": [
    "report = classification_report(y_true, y_pr, labels=labels, target_names=leinst.classes_)\n",
    "report_dict = classification_report(y_true, y_pr, labels=labels, target_names=leinst.classes_, output_dict=True)"
   ]
  },
  {
   "cell_type": "code",
   "execution_count": 37,
   "metadata": {},
   "outputs": [
    {
     "name": "stdout",
     "output_type": "stream",
     "text": [
      "              precision    recall  f1-score   support\n",
      "\n",
      "           一       0.99      0.99      0.99       133\n",
      "           七       1.00      0.76      0.86        25\n",
      "           三       0.94      0.97      0.95        64\n",
      "           上       0.96      0.92      0.94        59\n",
      "           下       0.98      0.98      0.98        42\n",
      "           世       0.97      0.95      0.96        41\n",
      "           中       0.92      0.94      0.93        47\n",
      "           之       0.79      1.00      0.88        22\n",
      "           也       0.91      0.89      0.90        36\n",
      "           事       0.95      0.97      0.96       106\n",
      "           二       0.96      1.00      0.98        52\n",
      "           五       0.91      0.93      0.92        44\n",
      "           人       0.96      0.96      0.96       136\n",
      "           今       0.98      0.98      0.98        47\n",
      "           仕       0.95      1.00      0.98        21\n",
      "           付       1.00      0.90      0.95        20\n",
      "           何       0.96      0.98      0.97        46\n",
      "           候       0.94      0.96      0.95        49\n",
      "           入       0.93      0.97      0.95        89\n",
      "           八       1.00      1.00      1.00        37\n",
      "           六       0.96      0.92      0.94        24\n",
      "           其       1.00      0.88      0.93        57\n",
      "           内       1.00      1.00      1.00        27\n",
      "           出       0.92      0.95      0.94        85\n",
      "           分       0.73      0.86      0.79        22\n",
      "           切       0.94      1.00      0.97        29\n",
      "           前       1.00      0.91      0.95        23\n",
      "           十       0.88      0.92      0.90        66\n",
      "           又       0.94      1.00      0.97        46\n",
      "           取       0.95      0.95      0.95        22\n",
      "           口       0.86      0.78      0.82        23\n",
      "           右       0.82      0.97      0.89        34\n",
      "           合       0.88      0.95      0.91        39\n",
      "           同       0.84      0.96      0.90        28\n",
      "           名       0.80      0.91      0.85        22\n",
      "           四       0.97      0.91      0.94        34\n",
      "           国       1.00      0.91      0.95        32\n",
      "           夜       0.97      1.00      0.98        32\n",
      "           大       0.92      0.92      0.92        65\n",
      "           太       1.00      0.76      0.86        25\n",
      "           夫       0.89      0.89      0.89        28\n",
      "           女       0.94      0.98      0.96        62\n",
      "           子       0.96      0.99      0.97        79\n",
      "           家       0.96      0.93      0.95        29\n",
      "           小       0.95      0.95      0.95        38\n",
      "           居       1.00      0.96      0.98        24\n",
      "           屋       1.00      0.96      0.98        27\n",
      "           山       0.96      0.98      0.97        51\n",
      "           平       0.95      0.90      0.93        21\n",
      "           年       1.00      0.80      0.89        25\n",
      "           引       1.00      0.95      0.98        22\n",
      "           彼       1.00      0.95      0.98        22\n",
      "           後       0.88      0.97      0.92        31\n",
      "           御       0.99      0.93      0.96        71\n",
      "           心       0.86      0.92      0.89        39\n",
      "           思       0.90      0.97      0.93        36\n",
      "           所       0.96      0.98      0.97        46\n",
      "           手       0.89      0.96      0.93        53\n",
      "           方       0.96      1.00      0.98        46\n",
      "           日       0.86      0.93      0.89        68\n",
      "           是       0.98      0.91      0.94        44\n",
      "           時       0.97      0.86      0.91        43\n",
      "           月       0.90      0.73      0.81        26\n",
      "           朝       1.00      0.89      0.94        35\n",
      "           木       0.94      0.75      0.83        20\n",
      "           来       0.83      0.95      0.89        37\n",
      "           様       0.95      0.86      0.90        21\n",
      "           此       0.97      1.00      0.98        65\n",
      "           気       0.95      0.80      0.87        25\n",
      "           水       0.96      0.96      0.96        49\n",
      "           法       0.90      0.90      0.90        21\n",
      "           湯       0.94      0.97      0.95        32\n",
      "           火       0.90      0.90      0.90        21\n",
      "           為       0.97      0.90      0.93        31\n",
      "           煮       0.96      0.96      0.96        25\n",
      "           物       0.93      0.93      0.93        61\n",
      "           生       0.96      0.81      0.88        27\n",
      "           申       0.90      0.98      0.94        58\n",
      "           男       1.00      1.00      1.00        23\n",
      "           白       0.87      0.94      0.91        36\n",
      "           目       0.94      0.83      0.88        35\n",
      "           程       1.00      0.97      0.99        34\n",
      "           立       0.92      0.92      0.92        36\n",
      "           米       0.93      0.96      0.94        26\n",
      "           粉       1.00      0.77      0.87        31\n",
      "           給       0.92      0.95      0.93        82\n",
      "           置       0.95      0.90      0.92        20\n",
      "           義       1.00      0.95      0.97        20\n",
      "           者       0.96      1.00      0.98        25\n",
      "           聞       1.00      0.90      0.95        31\n",
      "           能       0.90      0.96      0.93        27\n",
      "           色       1.00      0.90      0.95        21\n",
      "           行       0.93      0.96      0.94        26\n",
      "           見       0.98      0.99      0.98        89\n",
      "           身       0.94      0.94      0.94        35\n",
      "           道       0.94      0.77      0.85        22\n",
      "           郎       0.95      0.95      0.95        40\n",
      "           里       0.90      0.95      0.93        20\n",
      "           門       0.87      0.87      0.87        23\n",
      "           間       0.88      0.91      0.89        23\n",
      "           風       0.97      0.97      0.97        29\n",
      "           食       1.00      0.96      0.98        23\n",
      "           餅       0.93      0.96      0.95        28\n",
      "\n",
      "    accuracy                           0.94      4115\n",
      "   macro avg       0.94      0.93      0.93      4115\n",
      "weighted avg       0.94      0.94      0.94      4115\n",
      "\n"
     ]
    }
   ],
   "source": [
    "print(report)"
   ]
  },
  {
   "cell_type": "code",
   "execution_count": null,
   "metadata": {},
   "outputs": [],
   "source": []
  }
 ],
 "metadata": {
  "accelerator": "GPU",
  "colab": {
   "provenance": []
  },
  "gpuClass": "standard",
  "kernelspec": {
   "display_name": "Python 3 (ipykernel)",
   "language": "python",
   "name": "python3"
  },
  "language_info": {
   "codemirror_mode": {
    "name": "ipython",
    "version": 3
   },
   "file_extension": ".py",
   "mimetype": "text/x-python",
   "name": "python",
   "nbconvert_exporter": "python",
   "pygments_lexer": "ipython3",
   "version": "3.10.9"
  }
 },
 "nbformat": 4,
 "nbformat_minor": 1
}
