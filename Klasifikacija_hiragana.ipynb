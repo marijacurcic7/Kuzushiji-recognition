{
 "cells": [
  {
   "cell_type": "code",
   "execution_count": 1,
   "metadata": {
    "id": "r-4fPo0B8GZk"
   },
   "outputs": [],
   "source": [
    "import pandas as pd\n",
    "import os, cv2, keras\n",
    "import pandas as pd\n",
    "# import matplotlib.pyplot as plt\n",
    "import numpy as np\n",
    "import tensorflow as tf\n",
    "from PIL import Image, ImageDraw, ImageFont\n",
    "from keras import layers"
   ]
  },
  {
   "cell_type": "code",
   "execution_count": 3,
   "metadata": {
    "id": "vOOtc8GnIDDU"
   },
   "outputs": [],
   "source": [
    "df = pd.read_csv('cropped/hiragana_labels.csv')"
   ]
  },
  {
   "cell_type": "code",
   "execution_count": 4,
   "metadata": {
    "id": "W7IJKylEuq-L"
   },
   "outputs": [],
   "source": [
    "X_=[]\n",
    "y_=[]\n",
    "for image_id, labels in df.values:\n",
    "    image_fn = 'cropped/hiragana_cropped/{}.jpg'.format(image_id)\n",
    "    image = Image.open(image_fn)\n",
    "    image = np.asarray(image)\n",
    "    X_.append(image)\n",
    "    y_.append(labels)"
   ]
  },
  {
   "cell_type": "code",
   "execution_count": 5,
   "metadata": {
    "id": "WOnvzgo_w7b6"
   },
   "outputs": [],
   "source": [
    "X_ = np.array(X_)\n",
    "y_ = np.array(y_)"
   ]
  },
  {
   "cell_type": "code",
   "execution_count": 6,
   "metadata": {
    "id": "QaeIEPC_Pxnu"
   },
   "outputs": [],
   "source": [
    "unique, counts = np.unique(y_, return_counts=True)"
   ]
  },
  {
   "cell_type": "code",
   "execution_count": 7,
   "metadata": {
    "id": "Fbmi4BMKm9-a"
   },
   "outputs": [],
   "source": [
    "i = 0\n",
    "classes = []\n",
    "for c in counts:\n",
    "    if(c >= 10 and unique[i] != 'ゑ' and unique[i] != 'ゐ'):\n",
    "        cl = unique[i]\n",
    "        classes.append(cl)\n",
    "    i+=1"
   ]
  },
  {
   "cell_type": "code",
   "execution_count": 8,
   "metadata": {
    "id": "mQFkR_mJQM0h"
   },
   "outputs": [],
   "source": [
    "j = 0\n",
    "yy1_ = []\n",
    "XX1_ = []\n",
    "for y in y_:\n",
    "    if(y in classes):\n",
    "        yy1_.append(y)\n",
    "        XX1_.append(X_[j])\n",
    "    j+= 1"
   ]
  },
  {
   "cell_type": "code",
   "execution_count": 9,
   "metadata": {
    "id": "kY-OpY0FQX8f"
   },
   "outputs": [],
   "source": [
    "X_ = np.array(XX1_)\n",
    "y_ = np.array(yy1_)"
   ]
  },
  {
   "cell_type": "code",
   "execution_count": 10,
   "metadata": {
    "colab": {
     "base_uri": "https://localhost:8080/"
    },
    "id": "UowY9a8aQa61",
    "outputId": "c2b40d76-4f1b-42a1-8803-9e0466be5e0f"
   },
   "outputs": [
    {
     "name": "stdout",
     "output_type": "stream",
     "text": [
      "(184700, 100, 100)\n",
      "(184700,)\n"
     ]
    }
   ],
   "source": [
    "print(X_.shape)\n",
    "print(y_.shape)"
   ]
  },
  {
   "cell_type": "code",
   "execution_count": 11,
   "metadata": {
    "id": "wtOrIhuYQeNJ"
   },
   "outputs": [],
   "source": [
    "from sklearn.preprocessing import LabelEncoder\n",
    "from sklearn.model_selection import train_test_split\n",
    "\n",
    "from sklearn.svm import SVC\n",
    "from sklearn import metrics\n",
    "\n",
    "from keras.models import Sequential, Model,load_model\n",
    "from keras.layers import Dense, Dropout, Activation, Flatten, Conv2D, Conv3D, BatchNormalization, MaxPool2D, MaxPooling2D, AveragePooling2D, Input\n",
    "from keras.optimizers import Adam\n",
    "from keras.utils import to_categorical\n",
    "\n",
    "from keras.callbacks import ModelCheckpoint\n",
    "from datetime import datetime\n",
    "\n",
    "from keras import backend as K"
   ]
  },
  {
   "cell_type": "code",
   "execution_count": 12,
   "metadata": {
    "colab": {
     "base_uri": "https://localhost:8080/"
    },
    "id": "1yqJsPuRVSms",
    "outputId": "67d02b6c-7ad4-4997-f0b6-32293943441e"
   },
   "outputs": [
    {
     "name": "stdout",
     "output_type": "stream",
     "text": [
      "(147760, 100, 100)\n",
      "(18470, 100, 100)\n",
      "(18470, 100, 100)\n"
     ]
    }
   ],
   "source": [
    "leinst = LabelEncoder()\n",
    "yyinst = leinst.fit_transform(y_)\n",
    "\n",
    "# x_train, x_test, y_train, y_test = train_test_split(X_, yyinst, test_size=0.3, shuffle=True, random_state=42)\n",
    "x_train, x_test, y_train, y_test = train_test_split(X_, yyinst, test_size=0.2, shuffle=True, stratify=yyinst)\n",
    "\n",
    "# x_test, x_validation, y_test, y_validation = train_test_split(x_test, y_test, test_size=0.33, shuffle=True, random_state=42)\n",
    "x_test, x_validation, y_test, y_validation = train_test_split(x_test, y_test, test_size=0.5, shuffle=True, stratify=y_test)\n",
    "\n",
    "# x_train = x_train.reshape(len(x_train),128,44,1)\n",
    "# x_test = x_test.reshape(len(x_test),128,44,1)\n",
    "# x_validation = x_validation.reshape(len(x_validation),128,44,1)\n",
    "print(x_train.shape)\n",
    "print(x_test.shape)\n",
    "print(x_validation.shape)\n",
    "\n",
    "\n",
    "num_classes = len(leinst.classes_)\n",
    "y_train = to_categorical(y_train, num_classes=num_classes)\n",
    "y_test = to_categorical(y_test, num_classes=num_classes)\n",
    "y_validation = to_categorical(y_validation, num_classes=num_classes)"
   ]
  },
  {
   "cell_type": "code",
   "execution_count": 40,
   "metadata": {},
   "outputs": [
    {
     "data": {
      "text/plain": [
       "71"
      ]
     },
     "execution_count": 40,
     "metadata": {},
     "output_type": "execute_result"
    }
   ],
   "source": [
    "num_classes"
   ]
  },
  {
   "cell_type": "code",
   "execution_count": 13,
   "metadata": {
    "id": "Gf3cJ2Up4mdk"
   },
   "outputs": [],
   "source": [
    "# x_train_reshaped = x_train.reshape(x_train.shape[0], -1)"
   ]
  },
  {
   "cell_type": "code",
   "execution_count": 14,
   "metadata": {
    "id": "lbW1_wGo4KLC"
   },
   "outputs": [],
   "source": [
    "# np.savetxt(\"x_train.csv\", x_train_reshaped)"
   ]
  },
  {
   "cell_type": "code",
   "execution_count": 15,
   "metadata": {
    "id": "QHPqYiY063sz"
   },
   "outputs": [],
   "source": [
    "# np.savetxt(\"y_train.csv\", y_train)"
   ]
  },
  {
   "cell_type": "code",
   "execution_count": 16,
   "metadata": {
    "id": "4aMPWL866XCO"
   },
   "outputs": [],
   "source": [
    "# x_test_reshaped = x_test.reshape(x_test.shape[0], -1)\n",
    "# np.savetxt(\"x_test.csv\", x_test_reshaped)"
   ]
  },
  {
   "cell_type": "code",
   "execution_count": 17,
   "metadata": {
    "id": "4zKwMJ_z6QKV"
   },
   "outputs": [],
   "source": [
    "# np.savetxt(\"y_test.csv\", y_test)"
   ]
  },
  {
   "cell_type": "code",
   "execution_count": 18,
   "metadata": {
    "id": "-PuQyqBd6eB_"
   },
   "outputs": [],
   "source": [
    "# x_validation_reshaped = x_validation.reshape(x_validation.shape[0], -1)\n",
    "# np.savetxt(\"x_validation.csv\", x_validation_reshaped)"
   ]
  },
  {
   "cell_type": "code",
   "execution_count": 19,
   "metadata": {
    "id": "zEnpX7Ln6sqq"
   },
   "outputs": [],
   "source": [
    "# np.savetxt(\"y_validation.csv\", y_validation)"
   ]
  },
  {
   "cell_type": "code",
   "execution_count": null,
   "metadata": {
    "id": "IwwOMLXdIRL2"
   },
   "outputs": [],
   "source": [
    "# x_train = np.loadtxt(\"x_train.csv\")"
   ]
  },
  {
   "cell_type": "code",
   "execution_count": null,
   "metadata": {
    "id": "3yZp4SHrIlxW"
   },
   "outputs": [],
   "source": [
    "# load_original_arr = x_train.reshape(\n",
    "#     loaded_arr.shape[0], loaded_arr.shape[1] // arr.shape[2], arr.shape[2])"
   ]
  },
  {
   "cell_type": "code",
   "execution_count": 13,
   "metadata": {
    "id": "wsjjJM6gd4x0"
   },
   "outputs": [],
   "source": [
    "K.clear_session()\n",
    "def Kuzushiji_Classifier(in_):\n",
    "    model_ = Conv2D(64,kernel_size=(3, 3),activation='relu')(in_)\n",
    "    model_ = BatchNormalization()(model_)\n",
    "    model_ = Conv2D(32,kernel_size=(3, 3),activation='relu')(model_)\n",
    "    model_ = MaxPooling2D(pool_size=(2, 2))(model_)\n",
    "    model_ = BatchNormalization()(model_)\n",
    "    model_ = Dropout(0.4)(model_)\n",
    "    \n",
    "    model_ = Conv2D(32,kernel_size=(3, 3), strides=2,activation='relu')(model_)\n",
    "    model_ = MaxPooling2D(pool_size=(2, 2))(model_)\n",
    "    model_ = BatchNormalization()(model_)\n",
    "    model_ = Dropout(0.4)(model_)\n",
    "    \n",
    "    model_ = Flatten()(model_)\n",
    "    model_ = Dense(128, activation='relu')(model_)\n",
    "    model_ = Dropout(0.4)(model_)\n",
    "    model_ = Dense(num_classes, activation='softmax')(model_)\n",
    "    return model_"
   ]
  },
  {
   "cell_type": "code",
   "execution_count": 14,
   "metadata": {
    "id": "tpHW0eNTd-dq"
   },
   "outputs": [],
   "source": [
    "Input_Sample = Input(shape=(100, 100, 1))\n",
    "Output_ = Kuzushiji_Classifier(Input_Sample)\n",
    "Model_Enhancer = Model(inputs=Input_Sample, outputs=Output_)"
   ]
  },
  {
   "cell_type": "code",
   "execution_count": 15,
   "metadata": {
    "colab": {
     "base_uri": "https://localhost:8080/"
    },
    "id": "wohyt8Vtd_8j",
    "outputId": "ef19e9b2-5e8b-44a9-9e5e-75697bb0a4e6"
   },
   "outputs": [
    {
     "name": "stdout",
     "output_type": "stream",
     "text": [
      "Model: \"model\"\n",
      "_________________________________________________________________\n",
      " Layer (type)                Output Shape              Param #   \n",
      "=================================================================\n",
      " input_1 (InputLayer)        [(None, 100, 100, 1)]     0         \n",
      "                                                                 \n",
      " conv2d (Conv2D)             (None, 98, 98, 64)        640       \n",
      "                                                                 \n",
      " batch_normalization (BatchN  (None, 98, 98, 64)       256       \n",
      " ormalization)                                                   \n",
      "                                                                 \n",
      " conv2d_1 (Conv2D)           (None, 96, 96, 32)        18464     \n",
      "                                                                 \n",
      " max_pooling2d (MaxPooling2D  (None, 48, 48, 32)       0         \n",
      " )                                                               \n",
      "                                                                 \n",
      " batch_normalization_1 (Batc  (None, 48, 48, 32)       128       \n",
      " hNormalization)                                                 \n",
      "                                                                 \n",
      " dropout (Dropout)           (None, 48, 48, 32)        0         \n",
      "                                                                 \n",
      " conv2d_2 (Conv2D)           (None, 23, 23, 32)        9248      \n",
      "                                                                 \n",
      " max_pooling2d_1 (MaxPooling  (None, 11, 11, 32)       0         \n",
      " 2D)                                                             \n",
      "                                                                 \n",
      " batch_normalization_2 (Batc  (None, 11, 11, 32)       128       \n",
      " hNormalization)                                                 \n",
      "                                                                 \n",
      " dropout_1 (Dropout)         (None, 11, 11, 32)        0         \n",
      "                                                                 \n",
      " flatten (Flatten)           (None, 3872)              0         \n",
      "                                                                 \n",
      " dense (Dense)               (None, 128)               495744    \n",
      "                                                                 \n",
      " dropout_2 (Dropout)         (None, 128)               0         \n",
      "                                                                 \n",
      " dense_1 (Dense)             (None, 71)                9159      \n",
      "                                                                 \n",
      "=================================================================\n",
      "Total params: 533,767\n",
      "Trainable params: 533,511\n",
      "Non-trainable params: 256\n",
      "_________________________________________________________________\n"
     ]
    }
   ],
   "source": [
    "Model_Enhancer.compile(loss = \"categorical_crossentropy\", optimizer=\"adam\", metrics=[\"accuracy\"])\n",
    "Model_Enhancer.summary()"
   ]
  },
  {
   "cell_type": "code",
   "execution_count": 17,
   "metadata": {
    "id": "cl2yoPTSeFeZ"
   },
   "outputs": [],
   "source": [
    "checkpointer = ModelCheckpoint('model_Kuzushiji1.h5', verbose=0,mode='auto', monitor='val_accuracy',save_best_only=True)"
   ]
  },
  {
   "cell_type": "code",
   "execution_count": 18,
   "metadata": {
    "colab": {
     "base_uri": "https://localhost:8080/"
    },
    "id": "yuFT3FvfeIVj",
    "outputId": "541b5c83-9c06-4609-9815-9fce547604fb"
   },
   "outputs": [
    {
     "name": "stdout",
     "output_type": "stream",
     "text": [
      "Epoch 1/10\n",
      "9235/9235 [==============================] - 2919s 316ms/step - loss: 1.1259 - accuracy: 0.7125 - val_loss: 0.4731 - val_accuracy: 0.8836\n",
      "Epoch 2/10\n",
      "9235/9235 [==============================] - 21093s 2s/step - loss: 0.6710 - accuracy: 0.8184 - val_loss: 0.3510 - val_accuracy: 0.9069\n",
      "Epoch 3/10\n",
      "9235/9235 [==============================] - 2895s 314ms/step - loss: 0.5737 - accuracy: 0.8434 - val_loss: 0.3676 - val_accuracy: 0.9096\n",
      "Epoch 4/10\n",
      "9235/9235 [==============================] - 3000s 325ms/step - loss: 0.5186 - accuracy: 0.8559 - val_loss: 0.2948 - val_accuracy: 0.9252\n",
      "Epoch 5/10\n",
      "9235/9235 [==============================] - 12750s 1s/step - loss: 0.4946 - accuracy: 0.8628 - val_loss: 0.2863 - val_accuracy: 0.9262\n",
      "Epoch 6/10\n",
      "9235/9235 [==============================] - 3125s 338ms/step - loss: 0.4700 - accuracy: 0.8697 - val_loss: 0.2774 - val_accuracy: 0.9306\n",
      "Epoch 7/10\n",
      "9235/9235 [==============================] - 3161s 342ms/step - loss: 0.4538 - accuracy: 0.8726 - val_loss: 0.2909 - val_accuracy: 0.9291\n",
      "Epoch 8/10\n",
      "9235/9235 [==============================] - 3163s 342ms/step - loss: 0.4404 - accuracy: 0.8772 - val_loss: 0.3765 - val_accuracy: 0.9167\n",
      "Epoch 9/10\n",
      "9235/9235 [==============================] - 3165s 343ms/step - loss: 0.4315 - accuracy: 0.8789 - val_loss: 0.3300 - val_accuracy: 0.9265\n",
      "Epoch 10/10\n",
      "9235/9235 [==============================] - 3182s 345ms/step - loss: 0.4269 - accuracy: 0.8803 - val_loss: 0.2552 - val_accuracy: 0.9358\n"
     ]
    }
   ],
   "source": [
    "ModelHistory = Model_Enhancer.fit(x_train, y_train,\n",
    "          batch_size=16,\n",
    "          epochs=10,\n",
    "          verbose=1,\n",
    "          callbacks=[checkpointer],\n",
    "          validation_data=(x_validation, y_validation))"
   ]
  },
  {
   "cell_type": "code",
   "execution_count": null,
   "metadata": {
    "id": "0oXZqFNSIFP7"
   },
   "outputs": [],
   "source": [
    "Model_Enhancer.load_weights('model_Kuzushiji1.h5')"
   ]
  },
  {
   "cell_type": "code",
   "execution_count": 19,
   "metadata": {
    "id": "gel8NGkS2NVp"
   },
   "outputs": [
    {
     "name": "stdout",
     "output_type": "stream",
     "text": [
      "4618/4618 [==============================] - 426s 92ms/step - loss: 0.1578 - accuracy: 0.9593\n",
      "Training Accuracy:  0.9592785835266113\n"
     ]
    }
   ],
   "source": [
    "train_score = Model_Enhancer.evaluate(x_train, y_train, verbose=1)\n",
    "print(\"Training Accuracy: \", train_score[1])"
   ]
  },
  {
   "cell_type": "code",
   "execution_count": 20,
   "metadata": {
    "id": "V5FdrLiM2VPv"
   },
   "outputs": [
    {
     "name": "stdout",
     "output_type": "stream",
     "text": [
      "578/578 [==============================] - 56s 96ms/step - loss: 0.2475 - accuracy: 0.9340\n",
      "Test Accuracy:  0.934001088142395\n"
     ]
    }
   ],
   "source": [
    "test_score = Model_Enhancer.evaluate(x_test, y_test, verbose=1)\n",
    "print(\"Test Accuracy: \", test_score[1])"
   ]
  },
  {
   "cell_type": "code",
   "execution_count": 22,
   "metadata": {},
   "outputs": [
    {
     "name": "stdout",
     "output_type": "stream",
     "text": [
      "Epoch 1/10\n",
      "9235/9235 [==============================] - 2836s 307ms/step - loss: 0.4161 - accuracy: 0.8831 - val_loss: 0.2718 - val_accuracy: 0.9313\n",
      "Epoch 2/10\n",
      "9235/9235 [==============================] - 3113s 337ms/step - loss: 0.4090 - accuracy: 0.8851 - val_loss: 0.2561 - val_accuracy: 0.9337\n",
      "Epoch 3/10\n",
      "9235/9235 [==============================] - 3109s 337ms/step - loss: 0.4042 - accuracy: 0.8863 - val_loss: 0.2669 - val_accuracy: 0.9338\n",
      "Epoch 4/10\n",
      "9235/9235 [==============================] - 2977s 322ms/step - loss: 0.4023 - accuracy: 0.8865 - val_loss: 0.2824 - val_accuracy: 0.9306\n",
      "Epoch 5/10\n",
      "9235/9235 [==============================] - 2902s 314ms/step - loss: 0.3998 - accuracy: 0.8875 - val_loss: 0.2450 - val_accuracy: 0.9386\n",
      "Epoch 6/10\n",
      "9235/9235 [==============================] - 3001s 325ms/step - loss: 0.3984 - accuracy: 0.8870 - val_loss: 0.2470 - val_accuracy: 0.9391\n",
      "Epoch 7/10\n",
      "9235/9235 [==============================] - 3053s 331ms/step - loss: 0.3894 - accuracy: 0.8903 - val_loss: 0.2787 - val_accuracy: 0.9302\n",
      "Epoch 8/10\n",
      "9235/9235 [==============================] - 2964s 321ms/step - loss: 0.3872 - accuracy: 0.8907 - val_loss: 0.2487 - val_accuracy: 0.9388\n",
      "Epoch 9/10\n",
      "9235/9235 [==============================] - 2866s 310ms/step - loss: 0.3899 - accuracy: 0.8903 - val_loss: 0.2340 - val_accuracy: 0.9408\n",
      "Epoch 10/10\n",
      "9235/9235 [==============================] - 2851s 309ms/step - loss: 0.3855 - accuracy: 0.8900 - val_loss: 0.2598 - val_accuracy: 0.9354\n"
     ]
    }
   ],
   "source": [
    "ModelHistory = Model_Enhancer.fit(x_train, y_train,\n",
    "          batch_size=16,\n",
    "          epochs=10,\n",
    "          verbose=1,\n",
    "          callbacks=[checkpointer],\n",
    "          validation_data=(x_validation, y_validation))"
   ]
  },
  {
   "cell_type": "code",
   "execution_count": 23,
   "metadata": {},
   "outputs": [
    {
     "name": "stdout",
     "output_type": "stream",
     "text": [
      "4618/4618 [==============================] - 414s 90ms/step - loss: 0.1250 - accuracy: 0.9670\n",
      "Training Accuracy:  0.9669666886329651\n"
     ]
    }
   ],
   "source": [
    "train_score = Model_Enhancer.evaluate(x_train, y_train, verbose=1)\n",
    "print(\"Training Accuracy: \", train_score[1])"
   ]
  },
  {
   "cell_type": "code",
   "execution_count": 24,
   "metadata": {},
   "outputs": [
    {
     "name": "stdout",
     "output_type": "stream",
     "text": [
      "578/578 [==============================] - 62s 106ms/step - loss: 0.2439 - accuracy: 0.9376\n",
      "Test Accuracy:  0.9376285672187805\n"
     ]
    }
   ],
   "source": [
    "test_score = Model_Enhancer.evaluate(x_test, y_test, verbose=1)\n",
    "print(\"Test Accuracy: \", test_score[1])"
   ]
  },
  {
   "cell_type": "code",
   "execution_count": 25,
   "metadata": {
    "id": "nebfJvcGNtL2"
   },
   "outputs": [
    {
     "name": "stdout",
     "output_type": "stream",
     "text": [
      "578/578 [==============================] - 53s 92ms/step\n"
     ]
    }
   ],
   "source": [
    "y_pred = Model_Enhancer.predict(x_test)"
   ]
  },
  {
   "cell_type": "code",
   "execution_count": null,
   "metadata": {
    "colab": {
     "base_uri": "https://localhost:8080/"
    },
    "id": "KY3r0KgNPGWm",
    "outputId": "dc7d8c33-a66f-4ca4-d1e7-3d0fb01cd5ca"
   },
   "outputs": [
    {
     "data": {
      "text/plain": [
       "array([2.77684027e-08, 2.01823216e-08, 2.54049429e-12, 8.78703360e-13,\n",
       "       6.87377167e-07, 8.82464974e-07, 7.14351365e-04, 2.65569025e-08,\n",
       "       3.30244188e-06, 9.83050197e-10, 7.37276496e-05, 2.91381230e-09,\n",
       "       1.61631342e-05, 3.41546613e-09, 9.87379390e-05, 3.14488176e-07,\n",
       "       4.70635248e-03, 4.68442153e-07, 4.83857766e-05, 1.90324170e-06,\n",
       "       1.62559352e-03, 1.18288908e-05, 9.89352405e-01, 1.08182006e-08,\n",
       "       1.39653427e-03, 1.85657871e-08, 9.53455979e-04, 2.97635961e-12,\n",
       "       4.28336797e-08, 7.07658572e-20, 1.34399256e-10, 5.85896894e-04,\n",
       "       5.07749434e-08, 9.34125346e-05, 3.00122482e-09, 6.64051186e-05,\n",
       "       1.05981016e-07, 1.02808029e-09, 4.12002876e-08, 1.40354360e-11,\n",
       "       3.57572499e-10, 2.33584108e-09, 1.30238723e-05, 1.43422763e-13,\n",
       "       1.92964134e-12, 1.78013837e-09, 1.47374907e-14, 8.74781220e-11,\n",
       "       3.57715635e-07, 9.89595450e-13, 6.56389831e-09, 5.67298048e-05,\n",
       "       2.56915040e-13, 2.27001733e-11, 1.12018519e-04, 1.63481015e-08,\n",
       "       7.64609001e-11, 1.78691140e-09, 4.74290459e-07, 4.68304728e-10,\n",
       "       9.90157332e-07, 8.11495523e-20, 6.78602646e-06, 6.85494541e-18,\n",
       "       8.63554348e-08, 3.50652688e-16, 4.83803622e-11, 1.76289365e-08,\n",
       "       1.01135400e-09, 1.18233757e-07, 3.53614027e-08, 7.42279122e-13,\n",
       "       4.60125644e-13, 3.05683920e-15, 2.97822078e-17, 5.80865235e-05,\n",
       "       3.06683986e-13], dtype=float32)"
      ]
     },
     "execution_count": 24,
     "metadata": {},
     "output_type": "execute_result"
    }
   ],
   "source": [
    "y_pred[0]"
   ]
  },
  {
   "cell_type": "code",
   "execution_count": 30,
   "metadata": {
    "colab": {
     "base_uri": "https://localhost:8080/"
    },
    "id": "cd0ZdBQ1PY6N",
    "outputId": "9a5f2a59-e17e-42fa-931c-430f88b96fe3"
   },
   "outputs": [
    {
     "name": "stdout",
     "output_type": "stream",
     "text": [
      "Prediction:  て\n"
     ]
    }
   ],
   "source": [
    "i = np.argmax(y_pred[5])\n",
    "print(\"Prediction: \", leinst.classes_[i])"
   ]
  },
  {
   "cell_type": "code",
   "execution_count": 31,
   "metadata": {
    "colab": {
     "base_uri": "https://localhost:8080/"
    },
    "id": "WGsRG-YOPicF",
    "outputId": "680b5e01-e056-4983-e589-0a854f365fc7"
   },
   "outputs": [
    {
     "name": "stdout",
     "output_type": "stream",
     "text": [
      "Prediction:  て\n"
     ]
    }
   ],
   "source": [
    "i = np.argmax(y_test[5])\n",
    "print(\"Prediction: \", leinst.classes_[i])"
   ]
  },
  {
   "cell_type": "code",
   "execution_count": 32,
   "metadata": {
    "id": "8Z0ZuV-fQt2_"
   },
   "outputs": [],
   "source": [
    "from sklearn.metrics import f1_score"
   ]
  },
  {
   "cell_type": "code",
   "execution_count": 33,
   "metadata": {
    "id": "JTt4D66gRPdD"
   },
   "outputs": [],
   "source": [
    "y_true = np.argmax(y_test, axis=1)"
   ]
  },
  {
   "cell_type": "code",
   "execution_count": 34,
   "metadata": {
    "id": "GVI7VK5MRG_0"
   },
   "outputs": [],
   "source": [
    "y_pr = np.argmax(y_pred, axis=1)"
   ]
  },
  {
   "cell_type": "code",
   "execution_count": 1,
   "metadata": {
    "id": "SNH8O2TWQphn"
   },
   "outputs": [
    {
     "ename": "NameError",
     "evalue": "name 'f1_score' is not defined",
     "output_type": "error",
     "traceback": [
      "\u001b[1;31m---------------------------------------------------------------------------\u001b[0m",
      "\u001b[1;31mNameError\u001b[0m                                 Traceback (most recent call last)",
      "Cell \u001b[1;32mIn[1], line 1\u001b[0m\n\u001b[1;32m----> 1\u001b[0m f1 \u001b[38;5;241m=\u001b[39m \u001b[43mf1_score\u001b[49m(y_true, y_pr, average\u001b[38;5;241m=\u001b[39m\u001b[38;5;28;01mNone\u001b[39;00m)\n",
      "\u001b[1;31mNameError\u001b[0m: name 'f1_score' is not defined"
     ]
    }
   ],
   "source": [
    "f1 = f1_score(y_true, y_pr, average=None)"
   ]
  },
  {
   "cell_type": "code",
   "execution_count": 36,
   "metadata": {
    "id": "e5KMMykvBVHQ"
   },
   "outputs": [],
   "source": [
    "from sklearn.metrics import classification_report"
   ]
  },
  {
   "cell_type": "code",
   "execution_count": 37,
   "metadata": {
    "id": "1fFEQdKhBhI8"
   },
   "outputs": [],
   "source": [
    "n = 0\n",
    "labels = []\n",
    "for clas in leinst.classes_:\n",
    "    labels.append(n)\n",
    "    # print(clas, n)\n",
    "    n += 1"
   ]
  },
  {
   "cell_type": "code",
   "execution_count": 38,
   "metadata": {
    "id": "-uLNQKwtBmIm"
   },
   "outputs": [
    {
     "name": "stderr",
     "output_type": "stream",
     "text": [
      "C:\\Users\\marij\\AppData\\Roaming\\Python\\Python310\\site-packages\\sklearn\\metrics\\_classification.py:1344: UndefinedMetricWarning: Precision and F-score are ill-defined and being set to 0.0 in labels with no predicted samples. Use `zero_division` parameter to control this behavior.\n",
      "  _warn_prf(average, modifier, msg_start, len(result))\n",
      "C:\\Users\\marij\\AppData\\Roaming\\Python\\Python310\\site-packages\\sklearn\\metrics\\_classification.py:1344: UndefinedMetricWarning: Precision and F-score are ill-defined and being set to 0.0 in labels with no predicted samples. Use `zero_division` parameter to control this behavior.\n",
      "  _warn_prf(average, modifier, msg_start, len(result))\n",
      "C:\\Users\\marij\\AppData\\Roaming\\Python\\Python310\\site-packages\\sklearn\\metrics\\_classification.py:1344: UndefinedMetricWarning: Precision and F-score are ill-defined and being set to 0.0 in labels with no predicted samples. Use `zero_division` parameter to control this behavior.\n",
      "  _warn_prf(average, modifier, msg_start, len(result))\n",
      "C:\\Users\\marij\\AppData\\Roaming\\Python\\Python310\\site-packages\\sklearn\\metrics\\_classification.py:1344: UndefinedMetricWarning: Precision and F-score are ill-defined and being set to 0.0 in labels with no predicted samples. Use `zero_division` parameter to control this behavior.\n",
      "  _warn_prf(average, modifier, msg_start, len(result))\n",
      "C:\\Users\\marij\\AppData\\Roaming\\Python\\Python310\\site-packages\\sklearn\\metrics\\_classification.py:1344: UndefinedMetricWarning: Precision and F-score are ill-defined and being set to 0.0 in labels with no predicted samples. Use `zero_division` parameter to control this behavior.\n",
      "  _warn_prf(average, modifier, msg_start, len(result))\n",
      "C:\\Users\\marij\\AppData\\Roaming\\Python\\Python310\\site-packages\\sklearn\\metrics\\_classification.py:1344: UndefinedMetricWarning: Precision and F-score are ill-defined and being set to 0.0 in labels with no predicted samples. Use `zero_division` parameter to control this behavior.\n",
      "  _warn_prf(average, modifier, msg_start, len(result))\n"
     ]
    }
   ],
   "source": [
    "report = classification_report(y_true, y_pr, labels=labels, target_names=leinst.classes_)\n",
    "report_dict = classification_report(y_true, y_pr, labels=labels, target_names=leinst.classes_, output_dict=True)"
   ]
  },
  {
   "cell_type": "code",
   "execution_count": 39,
   "metadata": {
    "id": "SAmCwKb9Bngi"
   },
   "outputs": [
    {
     "name": "stdout",
     "output_type": "stream",
     "text": [
      "              precision    recall  f1-score   support\n",
      "\n",
      "           あ       0.96      0.94      0.95       308\n",
      "           い       0.95      0.98      0.96       415\n",
      "           う       0.97      0.94      0.95       260\n",
      "           え       0.92      0.89      0.91        38\n",
      "           お       0.94      0.94      0.94       209\n",
      "           か       0.91      0.85      0.88       628\n",
      "           が       0.90      0.95      0.92       272\n",
      "           き       0.94      0.94      0.94       355\n",
      "           ぎ       0.71      0.77      0.74        26\n",
      "           く       0.95      0.95      0.95       416\n",
      "           ぐ       0.94      0.68      0.79        22\n",
      "           け       0.91      0.85      0.88       207\n",
      "           げ       0.76      0.59      0.67        27\n",
      "           こ       0.94      0.86      0.90       259\n",
      "           ご       0.89      0.76      0.82        42\n",
      "           さ       0.97      0.91      0.94       305\n",
      "           ざ       0.85      0.78      0.82        60\n",
      "           し       0.91      0.98      0.95       993\n",
      "           じ       0.87      0.87      0.87        75\n",
      "           す       0.96      0.88      0.92       254\n",
      "           ず       0.91      0.86      0.89       118\n",
      "           せ       0.92      0.96      0.94       195\n",
      "           ぜ       1.00      0.43      0.60        14\n",
      "           そ       0.93      0.92      0.92       149\n",
      "           ぞ       0.88      0.84      0.86        45\n",
      "           た       0.94      0.92      0.93       425\n",
      "           だ       0.92      0.92      0.92       110\n",
      "           ち       0.97      0.89      0.93       115\n",
      "           ぢ       0.91      0.91      0.91        11\n",
      "           っ       0.50      0.50      0.50         2\n",
      "           つ       0.94      0.95      0.94       322\n",
      "           づ       0.92      0.77      0.84        43\n",
      "           て       0.95      0.97      0.96       886\n",
      "           で       0.93      0.87      0.90       108\n",
      "           と       0.95      0.94      0.95       653\n",
      "           ど       0.89      0.90      0.89       117\n",
      "           な       0.96      0.95      0.95       593\n",
      "           に       0.97      0.97      0.97      1078\n",
      "           ぬ       0.91      0.88      0.90       102\n",
      "           ね       0.91      0.88      0.89        91\n",
      "           の       0.98      0.98      0.98      1127\n",
      "           は       0.96      0.96      0.96       669\n",
      "           ば       0.92      0.94      0.93       216\n",
      "           ぱ       0.50      0.25      0.33         4\n",
      "           ひ       0.97      0.94      0.95       214\n",
      "           び       0.91      0.91      0.91        47\n",
      "           ぴ       0.00      0.00      0.00         1\n",
      "           ふ       0.93      0.95      0.94       266\n",
      "           ぶ       0.82      0.79      0.81        34\n",
      "           へ       0.93      0.98      0.95       310\n",
      "           べ       0.88      0.90      0.89        93\n",
      "           ぺ       0.00      0.00      0.00         1\n",
      "           ほ       0.93      0.72      0.81        71\n",
      "           ぼ       0.77      0.89      0.83        27\n",
      "           ぽ       1.00      0.33      0.50         3\n",
      "           ま       0.96      0.93      0.94       318\n",
      "           み       0.95      0.89      0.92       139\n",
      "           む       0.90      0.93      0.91        74\n",
      "           め       0.94      0.88      0.91       135\n",
      "           も       0.93      0.93      0.93       539\n",
      "           や       0.94      0.96      0.95       249\n",
      "           ゆ       0.90      0.86      0.88        64\n",
      "           よ       0.99      0.94      0.96       246\n",
      "           ら       0.89      0.95      0.92       458\n",
      "           り       0.86      0.98      0.92       657\n",
      "           る       0.92      0.91      0.92       590\n",
      "           れ       0.90      0.96      0.93       363\n",
      "           ろ       0.89      0.84      0.87        96\n",
      "           わ       0.96      0.83      0.89        83\n",
      "           を       0.98      0.98      0.98       762\n",
      "           ん       0.96      1.00      0.98       266\n",
      "\n",
      "    accuracy                           0.94     18470\n",
      "   macro avg       0.88      0.84      0.86     18470\n",
      "weighted avg       0.94      0.94      0.94     18470\n",
      "\n"
     ]
    }
   ],
   "source": [
    "print(report)"
   ]
  }
 ],
 "metadata": {
  "accelerator": "GPU",
  "colab": {
   "provenance": []
  },
  "gpuClass": "standard",
  "kernelspec": {
   "display_name": "Python 3 (ipykernel)",
   "language": "python",
   "name": "python3"
  },
  "language_info": {
   "codemirror_mode": {
    "name": "ipython",
    "version": 3
   },
   "file_extension": ".py",
   "mimetype": "text/x-python",
   "name": "python",
   "nbconvert_exporter": "python",
   "pygments_lexer": "ipython3",
   "version": "3.10.9"
  }
 },
 "nbformat": 4,
 "nbformat_minor": 1
}
